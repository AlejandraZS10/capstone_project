{
 "cells": [
  {
   "cell_type": "markdown",
   "metadata": {},
   "source": [
    "# Open Streets : Redirecting Traffic with Predictive Modeling in NYC"
   ]
  },
  {
   "cell_type": "markdown",
   "metadata": {},
   "source": [
    "## Abstract"
   ]
  },
  {
   "cell_type": "markdown",
   "metadata": {},
   "source": [
    "## Introduction\n",
    "\n",
    "In 2030, the expected population of the world will be over 8 billion and 60% of it will be located in urban areas. The rapid growth raises urban challenges of a magnitude that architects and urbanist have never dealt with before. One of the key challenges is to be able to remove cars from cities due to the expected quantity but also the impact on the environment and mobility. Although we can start to design our new cities with less car and a focus on walkability, there are plenty of existing cities such as New York that have evolved through the years to carry people with a mix of cars, taxis and mass transportation. Recent efforts have improved the mass transportation quality and opportunities for walking and biking. Nevertheless, a crisis such as COVID-19 demonstrated the need in the future for people to take over the streets to create more pedestrian focus citiesand extended storefronts that invite the community to gather.\n",
    "\n",
    "The more complex these challenges become the harder it is to find solutions with traditional methods that dealt with different priorities. Everyday millions of traffic related observations are generated in the form of data that informs how humans \"move\" in cities. Technology has proven to benefit our society and for challenges of this magnitude a creative and innovative method is imperative to foresee and solve for the future urban density.\n",
    "\n",
    "Using open data available from NYC, this project envisions to perform an analysis on current car traffic patterns in New York City. Based on the information from cars and taxis at different times of day, I will create a model as accurate as possible to predict how traffic may be redirected with certain streets closed. Historically, there are commercial corridors that expand from East to West of the city that are often vibrant and full of people but based on the Comissioners Plan (1811), they are wider streets that day to day are the path to thousands of cars. The model will explore the impact of returning the street scape to pedestrians on these areas of opportunity as well as compare narrower less busy streets. The use of data analysis, visualization and predictive model will inform this project to create a creative proposal of potential pedestrian-only streets in the city of New York. "
   ]
  },
  {
   "cell_type": "markdown",
   "metadata": {},
   "source": [
    "## Research Questions\n",
    "\n",
    "1. How can we determine the most and least traveled streets by cars, based on trip counts and car volume, that can potentially be transfered to pedestrian-only access?\n",
    "2. What is the impact on traffic and mobility in New York when we close certain streets for pedestrian-only access?\n",
    "3. How can we determine the optimal time of day on a monthyl basis for temporary closure of streets?"
   ]
  },
  {
   "cell_type": "markdown",
   "metadata": {},
   "source": [
    "## Data to be Used\n",
    "\n",
    "The proposed data for this scope is sourced from New York Open Data and it will combine a series of publicly available structured data sets.\n",
    "1. **Traffic Volume** (2014-2019) - CSV: Traffic volume counts collected by DOT for New York Metropolitan Transportation Council (NYMTC) to validate theNew York Best Practice Model (NYBPM).\n",
    "2. **NYC Street Centerline (CSCL)** - GeoJSON | CSV : The NYC Street Centerline (CSCL) is a road-bed representation of New York City streets containing address ranges and other information such as traffic directions, road types, segment types.\n",
    "3. **Yellow Taxi Trip Data (2014-2019)** - GeoJSON API and CSV - One dataset per year: This dataset includes trip records from all trips completed in yellow taxis from in NYC.\n",
    "4. **Closed Street for Pothole Work Orders** - GeoJSON |CSV: \n",
    "5. New York City Truck Routes - GeoJSON | CSV"
   ]
  },
  {
   "cell_type": "code",
   "execution_count": null,
   "metadata": {},
   "outputs": [],
   "source": []
  },
  {
   "cell_type": "code",
   "execution_count": null,
   "metadata": {},
   "outputs": [],
   "source": []
  },
  {
   "cell_type": "markdown",
   "metadata": {},
   "source": [
    "## Approach"
   ]
  },
  {
   "cell_type": "markdown",
   "metadata": {},
   "source": [
    "## Exploratory Data Analysis"
   ]
  },
  {
   "cell_type": "markdown",
   "metadata": {},
   "source": [
    "## Data Preparation and Review"
   ]
  },
  {
   "cell_type": "markdown",
   "metadata": {},
   "source": []
  },
  {
   "cell_type": "markdown",
   "metadata": {},
   "source": []
  },
  {
   "cell_type": "markdown",
   "metadata": {},
   "source": []
  },
  {
   "cell_type": "markdown",
   "metadata": {},
   "source": []
  },
  {
   "cell_type": "markdown",
   "metadata": {},
   "source": []
  },
  {
   "cell_type": "markdown",
   "metadata": {},
   "source": []
  },
  {
   "cell_type": "markdown",
   "metadata": {},
   "source": []
  }
 ],
 "metadata": {
  "kernelspec": {
   "display_name": "Python 3",
   "language": "python",
   "name": "python3"
  },
  "language_info": {
   "codemirror_mode": {
    "name": "ipython",
    "version": 3
   },
   "file_extension": ".py",
   "mimetype": "text/x-python",
   "name": "python",
   "nbconvert_exporter": "python",
   "pygments_lexer": "ipython3",
   "version": "3.7.6"
  }
 },
 "nbformat": 4,
 "nbformat_minor": 4
}
